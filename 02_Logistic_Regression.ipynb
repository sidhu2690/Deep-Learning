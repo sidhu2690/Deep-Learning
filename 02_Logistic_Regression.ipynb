{
  "nbformat": 4,
  "nbformat_minor": 0,
  "metadata": {
    "colab": {
      "provenance": [],
      "authorship_tag": "ABX9TyN8C8tY4Qoy5Bb8t8K5Yu1g",
      "include_colab_link": true
    },
    "kernelspec": {
      "name": "python3",
      "display_name": "Python 3"
    },
    "language_info": {
      "name": "python"
    }
  },
  "cells": [
    {
      "cell_type": "markdown",
      "metadata": {
        "id": "view-in-github",
        "colab_type": "text"
      },
      "source": [
        "<a href=\"https://colab.research.google.com/github/sidhu2690/Deep-Learning/blob/main/02_Logistic_Regression.ipynb\" target=\"_parent\"><img src=\"https://colab.research.google.com/assets/colab-badge.svg\" alt=\"Open In Colab\"/></a>"
      ]
    },
    {
      "cell_type": "code",
      "source": [
        "import math\n",
        "\n",
        "X = [x for x in range(-10, 10)]\n",
        "y = [1 if x>0 else 0 for x in X]\n",
        "\n",
        "def f(x, w, b):\n",
        "  return 1/(1 + math.exp(-(w*x+b)))\n",
        "\n",
        "def error(w, b):\n",
        "  err = 0\n",
        "  for x, y in zip(X, Y):\n",
        "    fx = f(x, w, b)\n",
        "    fx = max(fx, 1e-10)  # To avoid log(0)\n",
        "    err += (y*math.log(fx) + (1-y)*math.log(1-fx))\n",
        "  return -err/len(X)\n",
        "\n",
        "def grad_w(w, b, x, y):\n",
        "  fx = f(x, w, b)\n",
        "  return (fx - y)*x\n",
        "\n",
        "def grad_b(w, b, x, y):\n",
        "  fx = f(x, w, b)\n",
        "  return (fx -y)\n",
        "\n",
        "def gradient_descent():\n",
        "  w, b, epochs, eta = 0, 0, 100, 1e-2\n",
        "  for i in range(epochs):\n",
        "    db, dw = 0, 0\n",
        "    for x, y in zip(X, Y):\n",
        "      dw += grad_w(w, b, x, y)\n",
        "      db += grad_b(w, b, x, y)\n",
        "    dw, db = dw/len(X), db/len(X)\n",
        "    w = w - eta*dw\n",
        "    b = b - eta*db\n",
        "    if i % 10 == 0:\n",
        "      print(f\"Epoch: {i} | Error: {error(w, b):.4f}\")\n",
        "  return w, b\n",
        "\n",
        "w, b = gradient_descent()\n",
        "print(\"Prediction for -5:\", f(-5, w, b))\n",
        "print(\"Prediction for +5:\", f(5, w, b))\n",
        "print(\"Final error:\", error(w, b))"
      ],
      "metadata": {
        "colab": {
          "base_uri": "https://localhost:8080/"
        },
        "id": "wT-ON7ayrBCD",
        "outputId": "0758421c-f976-4da5-8429-046ea184110c"
      },
      "execution_count": 156,
      "outputs": [
        {
          "output_type": "stream",
          "name": "stdout",
          "text": [
            "Epoch: 0 | Error: 0.6332\n",
            "Epoch: 10 | Error: 0.3565\n",
            "Epoch: 20 | Error: 0.2703\n",
            "Epoch: 30 | Error: 0.2281\n",
            "Epoch: 40 | Error: 0.2025\n",
            "Epoch: 50 | Error: 0.1849\n",
            "Epoch: 60 | Error: 0.1719\n",
            "Epoch: 70 | Error: 0.1619\n",
            "Epoch: 80 | Error: 0.1537\n",
            "Epoch: 90 | Error: 0.1470\n",
            "Prediction for -5: 0.04959173043556341\n",
            "Prediction for +5: 0.9478939333315279\n",
            "Final error: 0.1418053415127118\n"
          ]
        }
      ]
    }
  ]
}