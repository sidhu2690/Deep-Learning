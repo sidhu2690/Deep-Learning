{
  "cells": [
    {
      "cell_type": "markdown",
      "metadata": {
        "id": "view-in-github",
        "colab_type": "text"
      },
      "source": [
        "<a href=\"https://colab.research.google.com/github/sidhu2690/Deep-Learning/blob/main/04_MNIST_CNN.ipynb\" target=\"_parent\"><img src=\"https://colab.research.google.com/assets/colab-badge.svg\" alt=\"Open In Colab\"/></a>"
      ]
    },
    {
      "cell_type": "code",
      "execution_count": 104,
      "metadata": {
        "id": "xqETl8UvwsXO"
      },
      "outputs": [],
      "source": [
        "import torch\n",
        "import torch.nn as nn\n",
        "import torchvision.transforms as transforms\n",
        "import torchvision.datasets as dsets"
      ]
    },
    {
      "cell_type": "code",
      "source": [
        "train_data = dsets.MNIST(root = './data',\n",
        "                         transform = transforms.ToTensor(),\n",
        "                         train = True,\n",
        "                         download = True)\n",
        "\n",
        "test_data = dsets.MNIST(root = './data',\n",
        "                        transform = transforms.ToTensor(),\n",
        "                        train = False,\n",
        "                        )"
      ],
      "metadata": {
        "id": "NtFFqnirSh2q"
      },
      "execution_count": 128,
      "outputs": []
    },
    {
      "cell_type": "code",
      "source": [
        "train_loader = torch.utils.data.DataLoader(dataset = train_data,\n",
        "                                               batch_size = 32,\n",
        "                                               shuffle = True)\n",
        "\n",
        "test_loader  = torch.utils.data.DataLoader(dataset = test_data,\n",
        "                                           batch_size = 32,\n",
        "                                           shuffle = False)"
      ],
      "metadata": {
        "id": "NG2PJa84TKOq"
      },
      "execution_count": 129,
      "outputs": []
    },
    {
      "cell_type": "code",
      "source": [
        "class CNN(nn.Module):\n",
        "  def __init__(self):\n",
        "    super(CNN, self).__init__()\n",
        "\n",
        "    self.cnn1 = nn.Conv2d(in_channels = 1, out_channels = 16, kernel_size = 5, padding = 2, stride = 1)   # (1, 28, 28) ---> (16, 28, 28)  O = (W - K + 2P)/S + 1 = (28 - 5 + 4)/1 + 1 = 28\n",
        "    self.relu = nn.ReLU()\n",
        "    self.maxpool1 = nn.MaxPool2d(kernel_size = 2)                                                         # (16, 28, 28)---> (16, 14, 14)  O = (W - K) / S + 1 = (28 - 2) / 2(default kernel = stride) + 1 = 14\n",
        "\n",
        "    self.cnn2 = nn.Conv2d(in_channels = 16, out_channels = 32, kernel_size = 5, padding = 2, stride = 1)  # (16, 14, 14)---> (32, 14, 14)\n",
        "    self.maxpool2= nn.MaxPool2d(kernel_size = 2)                                                            # (32, 14, 14)---> (32, 7, 7)\n",
        "\n",
        "    self.linear = nn.Linear(32*7*7, 10)\n",
        "\n",
        "  def forward(self, x):\n",
        "    z = self.cnn1(x)\n",
        "    z = self.relu(z)\n",
        "    z = self.maxpool1(z)\n",
        "\n",
        "    z = self.cnn2(z)\n",
        "    z = self.relu(z)\n",
        "    z = self.maxpool2(z)\n",
        "\n",
        "    z = z.view(z.size(0), -1)\n",
        "    z = self.linear(z)\n",
        "    return z\n"
      ],
      "metadata": {
        "id": "eyumIeaOb7_V"
      },
      "execution_count": 149,
      "outputs": []
    },
    {
      "cell_type": "code",
      "source": [
        "model = CNN()\n",
        "criterion = nn.CrossEntropyLoss()\n",
        "optimizer = torch.optim.SGD(model.parameters(), lr = 0.001)\n",
        "epochs = 10"
      ],
      "metadata": {
        "id": "B_XlLBZvfwwl"
      },
      "execution_count": 150,
      "outputs": []
    },
    {
      "cell_type": "code",
      "source": [
        "for epoch in range(epochs):\n",
        "  model.train()\n",
        "  loss_values = 0\n",
        "  correct = 0\n",
        "\n",
        "  for images, labels in train_loader:\n",
        "    logits = model(images)\n",
        "    loss = criterion(logits, labels)\n",
        "\n",
        "    optimizer.zero_grad()\n",
        "    loss.backward()\n",
        "    optimizer.step()\n",
        "\n",
        "    loss_values += loss.item()\n",
        "    correct += (torch.argmax(logits, dim = 1) == labels).sum().item()\n",
        "\n",
        "  accuracy = correct / len(train_loader.dataset) * 100\n",
        "\n",
        "  print(f' Epoch: {epoch} | Loss: {loss_values / len(train_loader):.4f} | accuracy: {accuracy:.4f}')"
      ],
      "metadata": {
        "colab": {
          "base_uri": "https://localhost:8080/"
        },
        "id": "m9NYUTEGf85V",
        "outputId": "4ff37e81-83c7-451a-ad23-0db108e7cfd0"
      },
      "execution_count": 154,
      "outputs": [
        {
          "output_type": "stream",
          "name": "stdout",
          "text": [
            " Epoch: 0 | Loss: 0.4246 | accuracy: 88.2467\n",
            " Epoch: 1 | Loss: 0.3372 | accuracy: 90.3683\n",
            " Epoch: 2 | Loss: 0.2943 | accuracy: 91.4683\n",
            " Epoch: 3 | Loss: 0.2636 | accuracy: 92.4000\n",
            " Epoch: 4 | Loss: 0.2390 | accuracy: 93.0250\n",
            " Epoch: 5 | Loss: 0.2188 | accuracy: 93.6400\n",
            " Epoch: 6 | Loss: 0.2015 | accuracy: 94.0783\n",
            " Epoch: 7 | Loss: 0.1861 | accuracy: 94.5950\n",
            " Epoch: 8 | Loss: 0.1734 | accuracy: 94.9783\n",
            " Epoch: 9 | Loss: 0.1620 | accuracy: 95.3150\n"
          ]
        }
      ]
    }
  ],
  "metadata": {
    "colab": {
      "provenance": [],
      "authorship_tag": "ABX9TyMyEaPHuCQ68BSgB/aVKoDO",
      "include_colab_link": true
    },
    "kernelspec": {
      "display_name": "Python 3",
      "name": "python3"
    },
    "language_info": {
      "name": "python"
    }
  },
  "nbformat": 4,
  "nbformat_minor": 0
}