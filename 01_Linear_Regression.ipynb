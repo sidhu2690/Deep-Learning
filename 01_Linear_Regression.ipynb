{
  "nbformat": 4,
  "nbformat_minor": 0,
  "metadata": {
    "colab": {
      "provenance": [],
      "authorship_tag": "ABX9TyP1KEm/8aTl6E1oerdmOIcm",
      "include_colab_link": true
    },
    "kernelspec": {
      "name": "python3",
      "display_name": "Python 3"
    },
    "language_info": {
      "name": "python"
    }
  },
  "cells": [
    {
      "cell_type": "markdown",
      "metadata": {
        "id": "view-in-github",
        "colab_type": "text"
      },
      "source": [
        "<a href=\"https://colab.research.google.com/github/sidhu2690/Deep-Learning/blob/main/01_Linear_Regression.ipynb\" target=\"_parent\"><img src=\"https://colab.research.google.com/assets/colab-badge.svg\" alt=\"Open In Colab\"/></a>"
      ]
    },
    {
      "cell_type": "code",
      "source": [
        "X = [x for x in range(1, 10000)]\n",
        "Y = [2*x for x in X]\n",
        "\n",
        "def f(w, x, b):\n",
        "    return w*x+b\n",
        "\n",
        "def error(w, b):\n",
        "    err = 0\n",
        "    for x, y in zip(X, Y):\n",
        "        fx = f(w, x, b)\n",
        "        err += 0.5 * (fx - y)**2\n",
        "    return err / len(X)\n",
        "\n",
        "def grad_w(w, b, x, y):\n",
        "    fx = f(w, x, b)\n",
        "    return (fx - y)*x\n",
        "\n",
        "def grad_b(w, b, x, y):\n",
        "    fx = f(w, x, b)\n",
        "    return (fx - y)\n",
        "\n",
        "def gradient_descent():\n",
        "    w, b, epochs, eta = 0.0, 0.0, 100, 1e-8\n",
        "    n = len(X)\n",
        "    for i in range(epochs):\n",
        "        dw, db = 0, 0\n",
        "        for x, y in zip(X, Y):\n",
        "            dw += grad_w(w, b, x, y)\n",
        "            db += grad_b(w, b, x, y)\n",
        "        dw /= n\n",
        "        db /= n\n",
        "        w = w - eta * dw\n",
        "        b = b - eta * db\n",
        "        if i % 10 == 0:\n",
        "            print(f\"Epoch {i}: w={w:.6f}, b={b:.6f}, error={error(w,b):.6f}\")\n",
        "    return w, b\n"
      ],
      "metadata": {
        "id": "Ls-LHcNaklZE"
      },
      "execution_count": 131,
      "outputs": []
    },
    {
      "cell_type": "code",
      "source": [
        "w, b = gradient_descent()\n",
        "print(\"Final:\", w, b, \"Error:\", error(w, b))"
      ],
      "metadata": {
        "colab": {
          "base_uri": "https://localhost:8080/"
        },
        "id": "fStnit-mknAl",
        "outputId": "55cad395-6e66-41d4-c745-0828e889f98b"
      },
      "execution_count": 132,
      "outputs": [
        {
          "output_type": "stream",
          "name": "stdout",
          "text": [
            "Epoch 0: w=0.666633, b=0.000100, error=29629628.907390\n",
            "Epoch 10: w=1.976872, b=0.000297, error=8914.932884\n",
            "Epoch 20: w=1.999599, b=0.000300, error=2.682316\n",
            "Epoch 30: w=1.999993, b=0.000300, error=0.000807\n",
            "Epoch 40: w=2.000000, b=0.000300, error=0.000000\n",
            "Epoch 50: w=2.000000, b=0.000300, error=0.000000\n",
            "Epoch 60: w=2.000000, b=0.000300, error=0.000000\n",
            "Epoch 70: w=2.000000, b=0.000300, error=0.000000\n",
            "Epoch 80: w=2.000000, b=0.000300, error=0.000000\n",
            "Epoch 90: w=2.000000, b=0.000300, error=0.000000\n",
            "Final: 1.9999999549955112 0.00030001492125642545 Error: 1.1249431327120373e-08\n"
          ]
        }
      ]
    },
    {
      "cell_type": "code",
      "source": [],
      "metadata": {
        "id": "wT-ON7ayrBCD"
      },
      "execution_count": null,
      "outputs": []
    }
  ]
}