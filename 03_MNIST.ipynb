{
  "cells": [
    {
      "cell_type": "markdown",
      "metadata": {
        "id": "view-in-github",
        "colab_type": "text"
      },
      "source": [
        "<a href=\"https://colab.research.google.com/github/sidhu2690/Deep-Learning/blob/main/03_MNIST.ipynb\" target=\"_parent\"><img src=\"https://colab.research.google.com/assets/colab-badge.svg\" alt=\"Open In Colab\"/></a>"
      ]
    },
    {
      "cell_type": "code",
      "execution_count": 104,
      "metadata": {
        "id": "xqETl8UvwsXO"
      },
      "outputs": [],
      "source": [
        "import torch\n",
        "import torch.nn as nn\n",
        "import torchvision.transforms as transforms\n",
        "import torchvision.datasets as dsets"
      ]
    },
    {
      "cell_type": "code",
      "source": [
        "train_data = dsets.MNIST(root = './data',\n",
        "                         transform = transforms.ToTensor(),\n",
        "                         train = True,\n",
        "                         download = True)\n",
        "\n",
        "test_data = dsets.MNIST(root = './data',\n",
        "                        transform = transforms.ToTensor(),\n",
        "                        train = False,\n",
        "                        )"
      ],
      "metadata": {
        "id": "NtFFqnirSh2q"
      },
      "execution_count": 128,
      "outputs": []
    },
    {
      "cell_type": "code",
      "source": [
        "train_loader = torch.utils.data.DataLoader(dataset = train_data,\n",
        "                                               batch_size = 32,\n",
        "                                               shuffle = True)\n",
        "\n",
        "test_loader  = torch.utils.data.DataLoader(dataset = test_data,\n",
        "                                           batch_size = 32,\n",
        "                                           shuffle = False)"
      ],
      "metadata": {
        "id": "NG2PJa84TKOq"
      },
      "execution_count": 129,
      "outputs": []
    },
    {
      "cell_type": "code",
      "source": [
        "class Model(nn.Module):\n",
        "  def __init__(self, input_dim, hidden_dim, output_dim):\n",
        "    super(Model, self).__init__()\n",
        "\n",
        "    self.linear1 = nn.Linear(input_dim, hidden_dim)\n",
        "    self.sigmoid = nn.Sigmoid()\n",
        "    self.linear2 = nn.Linear(hidden_dim, output_dim)\n",
        "\n",
        "  def forward(self, x):\n",
        "    return (self.linear2(self.sigmoid(self.linear1(x.view(x.size(0), -1)))))\n",
        "\n",
        "model = Model(28*28, 64, 10)"
      ],
      "metadata": {
        "id": "z4Qt52DJTu8V"
      },
      "execution_count": 131,
      "outputs": []
    },
    {
      "cell_type": "code",
      "source": [
        "epochs = 10\n",
        "criterion = nn.CrossEntropyLoss()\n",
        "optimizer = torch.optim.SGD(model.parameters(), lr = 0.001)"
      ],
      "metadata": {
        "id": "kLu5LKq7TkQ_"
      },
      "execution_count": 132,
      "outputs": []
    },
    {
      "cell_type": "code",
      "source": [
        "for epoch in range(epochs):\n",
        "  model.train()\n",
        "  loss_values = 0\n",
        "  correct = 0\n",
        "\n",
        "  for image, label in train_loader:\n",
        "    logits = model(image)\n",
        "    loss = criterion(logits, label)\n",
        "\n",
        "    optimizer.zero_grad()\n",
        "    loss.backward()\n",
        "    optimizer.step()\n",
        "\n",
        "    loss_values += loss.item()\n",
        "    correct += (label == torch.argmax(logits, dim=1)).sum().item()\n",
        "\n",
        "  accuracy = correct / len(train_loader.dataset)\n",
        "  print(f' epoch: {epoch} | loss values: {loss_values / len(train_loader):.4f} | accuracy: {accuracy*100:.4f}')"
      ],
      "metadata": {
        "colab": {
          "base_uri": "https://localhost:8080/"
        },
        "id": "3Eb-6LskUpBz",
        "outputId": "8172db05-dba8-496e-b466-2ab63b344541"
      },
      "execution_count": 139,
      "outputs": [
        {
          "output_type": "stream",
          "name": "stdout",
          "text": [
            " epoch: 0 | loss values: 0.8907 | accuracy: 0.8155\n",
            " epoch: 1 | loss values: 0.8521 | accuracy: 0.8210\n",
            " epoch: 2 | loss values: 0.8174 | accuracy: 0.8267\n",
            " epoch: 3 | loss values: 0.7864 | accuracy: 0.8317\n",
            " epoch: 4 | loss values: 0.7583 | accuracy: 0.8359\n",
            " epoch: 5 | loss values: 0.7328 | accuracy: 0.8399\n",
            " epoch: 6 | loss values: 0.7096 | accuracy: 0.8437\n",
            " epoch: 7 | loss values: 0.6885 | accuracy: 0.8466\n",
            " epoch: 8 | loss values: 0.6690 | accuracy: 0.8500\n",
            " epoch: 9 | loss values: 0.6511 | accuracy: 0.8526\n"
          ]
        }
      ]
    }
  ],
  "metadata": {
    "colab": {
      "provenance": [],
      "authorship_tag": "ABX9TyPtAg891wRpUKDntzMrLOnn",
      "include_colab_link": true
    },
    "kernelspec": {
      "display_name": "Python 3",
      "name": "python3"
    },
    "language_info": {
      "name": "python"
    }
  },
  "nbformat": 4,
  "nbformat_minor": 0
}